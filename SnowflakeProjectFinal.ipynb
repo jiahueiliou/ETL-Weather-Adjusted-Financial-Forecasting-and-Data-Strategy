{
 "cells": [
  {
   "cell_type": "code",
   "execution_count": 4,
   "metadata": {},
   "outputs": [
    {
     "name": "stderr",
     "output_type": "stream",
     "text": [
      "/opt/conda/lib/python3.11/site-packages/snowflake/connector/options.py:103: UserWarning: You have an incompatible version of 'pyarrow' installed (12.0.0), please install a version that adheres to: 'pyarrow<10.1.0,>=10.0.1; extra == \"pandas\"'\n",
      "  warn_incompatible_dep(\n"
     ]
    }
   ],
   "source": [
    "import snowflake.connector\n",
    "\n",
    "conn = snowflake.connector.connect(\n",
    "user='',\n",
    "password='',\n",
    "account=''\n",
    ")"
   ]
  },
  {
   "cell_type": "code",
   "execution_count": 5,
   "metadata": {},
   "outputs": [],
   "source": [
    "cs = conn.cursor()"
   ]
  },
  {
   "cell_type": "code",
   "execution_count": 6,
   "metadata": {},
   "outputs": [
    {
     "data": {
      "text/plain": [
       "<snowflake.connector.cursor.SnowflakeCursor at 0x7f85b4e8ef50>"
      ]
     },
     "execution_count": 6,
     "metadata": {},
     "output_type": "execute_result"
    }
   ],
   "source": [
    "# create a new warehouse in Snowflake\n",
    "cs.execute(\"CREATE WAREHOUSE IF NOT EXISTS ELT_PROJECT\")"
   ]
  },
  {
   "cell_type": "code",
   "execution_count": 74,
   "metadata": {},
   "outputs": [
    {
     "data": {
      "text/plain": [
       "<snowflake.connector.cursor.SnowflakeCursor at 0x7f3af21d4210>"
      ]
     },
     "execution_count": 74,
     "metadata": {},
     "output_type": "execute_result"
    }
   ],
   "source": [
    "# create a new database in SnowFlake\n",
    "cs.execute(\"CREATE DATABASE IF NOT EXISTS PROJECT_DATABASE\")"
   ]
  },
  {
   "cell_type": "code",
   "execution_count": 18,
   "metadata": {},
   "outputs": [
    {
     "data": {
      "text/plain": [
       "<snowflake.connector.cursor.SnowflakeCursor at 0x7f263f9a6150>"
      ]
     },
     "execution_count": 18,
     "metadata": {},
     "output_type": "execute_result"
    }
   ],
   "source": [
    "# specific the database we want to use (because sometimes it just goes to another database)\n",
    "cs.execute(\"USE DATABASE PROJECT_DATABASE\")"
   ]
  },
  {
   "cell_type": "code",
   "execution_count": 9,
   "metadata": {},
   "outputs": [
    {
     "data": {
      "text/plain": [
       "<snowflake.connector.cursor.SnowflakeCursor at 0x7f85b4e8ef50>"
      ]
     },
     "execution_count": 9,
     "metadata": {},
     "output_type": "execute_result"
    }
   ],
   "source": [
    "# create a new schema in SnowFlake\n",
    "cs.execute(\"CREATE SCHEMA IF NOT EXISTS PROJECT_SCHEMA\")"
   ]
  },
  {
   "cell_type": "code",
   "execution_count": 19,
   "metadata": {},
   "outputs": [
    {
     "data": {
      "text/plain": [
       "<snowflake.connector.cursor.SnowflakeCursor at 0x7f263f9a6150>"
      ]
     },
     "execution_count": 19,
     "metadata": {},
     "output_type": "execute_result"
    }
   ],
   "source": [
    "# specific the schema we want to use\n",
    "cs.execute(\"USE SCHEMA PROJECT_SCHEMA\")"
   ]
  },
  {
   "cell_type": "code",
   "execution_count": 11,
   "metadata": {},
   "outputs": [
    {
     "data": {
      "text/plain": [
       "<snowflake.connector.cursor.SnowflakeCursor at 0x7f85b4e8ef50>"
      ]
     },
     "execution_count": 11,
     "metadata": {},
     "output_type": "execute_result"
    }
   ],
   "source": [
    "# create a stage in SnowFlake\n",
    "cs.execute(\"CREATE OR REPLACE STAGE PROJECT_STAGE FILE_FORMAT = (TYPE = 'CSV')\")"
   ]
  },
  {
   "cell_type": "code",
   "execution_count": 26,
   "metadata": {},
   "outputs": [],
   "source": [
    "# upload the files to the stage\n",
    "import glob\n",
    "files_to_upload = glob.glob('/CaseData/MonthlyPOData/*.csv')"
   ]
  },
  {
   "cell_type": "code",
   "execution_count": 27,
   "metadata": {},
   "outputs": [],
   "source": [
    "for file_path in files_to_upload:\n",
    "    put_command = f\"PUT file://{file_path} @project_stage\"\n",
    "    cs.execute(put_command)"
   ]
  },
  {
   "cell_type": "code",
   "execution_count": 28,
   "metadata": {},
   "outputs": [
    {
     "data": {
      "text/plain": [
       "<snowflake.connector.cursor.SnowflakeCursor at 0x7f3afedbfa10>"
      ]
     },
     "execution_count": 28,
     "metadata": {},
     "output_type": "execute_result"
    }
   ],
   "source": [
    "# create a new table called purchase\n",
    "cs.execute(\"\"\"\n",
    "CREATE OR REPLACE TABLE purchase (\n",
    "    PurchaseOrderID INT,\n",
    "    SupplierID INT,\n",
    "    OrderDate DATE,\n",
    "    DeliveryMethodID INT,\n",
    "    ContactPersonID INT,\n",
    "    ExpectedDeliveryDate DATE,\n",
    "    SupplierReference STRING,\n",
    "    IsOrderFinalized INT,\n",
    "    Comments STRING,\n",
    "    InternalComments STRING,\n",
    "    LastEditedBy INT,\n",
    "    LastEditedWhen STRING,\n",
    "    PurchaseOrderLineID INT,\n",
    "    StockItemID INT,\n",
    "    OrderedOuters INT,\n",
    "    Description STRING,\n",
    "    ReceivedOuters INT,\n",
    "    PackageTypeID INT,\n",
    "    ExpectedUnitPricePerOuter FLOAT,\n",
    "    LastReceiptDate DATE,\n",
    "    IsOrderLineFinalized INT,\n",
    "    Right_LastEditedBy INT,\n",
    "    Right_LastEditedWhen STRING                                                                                                                                           \n",
    ")\n",
    "\"\"\")\n",
    "# Change the datatype of LastEditedWhen from datetime to string because of the error when copying the data to the table\n"
   ]
  },
  {
   "cell_type": "code",
   "execution_count": 29,
   "metadata": {},
   "outputs": [
    {
     "data": {
      "text/plain": [
       "<snowflake.connector.cursor.SnowflakeCursor at 0x7f3afedbfa10>"
      ]
     },
     "execution_count": 29,
     "metadata": {},
     "output_type": "execute_result"
    }
   ],
   "source": [
    "# copy data from stage to purchase table\n",
    "copy_into_command = \"\"\"\n",
    "COPY INTO purchase\n",
    "FROM @project_stage\n",
    "FILE_FORMAT = (TYPE = 'CSV' skip_header = 1 NULL_IF=('NULL', '\\\\N'))\n",
    "ON_ERROR = 'CONTINUE'\n",
    "\"\"\"\n",
    "cs.execute(\"TRUNCATE TABLE purchase\")\n",
    "cs.execute(copy_into_command)"
   ]
  },
  {
   "cell_type": "code",
   "execution_count": 30,
   "metadata": {},
   "outputs": [
    {
     "data": {
      "text/plain": [
       "<snowflake.connector.cursor.SnowflakeCursor at 0x7f3afedbfa10>"
      ]
     },
     "execution_count": 30,
     "metadata": {},
     "output_type": "execute_result"
    }
   ],
   "source": [
    "cs.execute(\"ALTER TABLE purchase DROP COLUMN comments, internalcomments\")"
   ]
  },
  {
   "cell_type": "code",
   "execution_count": 31,
   "metadata": {},
   "outputs": [
    {
     "data": {
      "text/plain": [
       "<snowflake.connector.cursor.SnowflakeCursor at 0x7f3afedbfa10>"
      ]
     },
     "execution_count": 31,
     "metadata": {},
     "output_type": "execute_result"
    }
   ],
   "source": [
    "# Step 2\n",
    "# add POAmount column that shows purchase order totals\n",
    "cs.execute(\"ALTER TABLE purchase ADD COLUMN POAmount FLOAT\")"
   ]
  },
  {
   "cell_type": "code",
   "execution_count": 32,
   "metadata": {},
   "outputs": [
    {
     "data": {
      "text/plain": [
       "<snowflake.connector.cursor.SnowflakeCursor at 0x7f3afedbfa10>"
      ]
     },
     "execution_count": 32,
     "metadata": {},
     "output_type": "execute_result"
    }
   ],
   "source": [
    "# Create a temp table to store the new POAmount\n",
    "cs.execute(\"\"\"CREATE TEMP TABLE IF NOT EXISTS temp_table AS\n",
    "SELECT PurchaseOrderID, SUM(ReceivedOuters * ExpectedUnitPricePerOuter) OVER(PARTITION BY PurchaseOrderID)AS new_POAmount\n",
    "FROM purchase\"\"\")"
   ]
  },
  {
   "cell_type": "code",
   "execution_count": 33,
   "metadata": {},
   "outputs": [
    {
     "data": {
      "text/plain": [
       "<snowflake.connector.cursor.SnowflakeCursor at 0x7f3afedbfa10>"
      ]
     },
     "execution_count": 33,
     "metadata": {},
     "output_type": "execute_result"
    }
   ],
   "source": [
    "# update the POAmount with the sum of each purchase order \n",
    "cs.execute(\"\"\"UPDATE purchase\n",
    "SET POAmount = temp_table.new_POAmount\n",
    "FROM temp_table\n",
    "WHERE purchase.PurchaseOrderID = temp_table.PurchaseOrderID;\n",
    "\"\"\")"
   ]
  },
  {
   "cell_type": "code",
   "execution_count": 34,
   "metadata": {},
   "outputs": [
    {
     "data": {
      "text/plain": [
       "<snowflake.connector.cursor.SnowflakeCursor at 0x7f3afedbfa10>"
      ]
     },
     "execution_count": 34,
     "metadata": {},
     "output_type": "execute_result"
    }
   ],
   "source": [
    "# Step 3: Extract and load the supplier invoice XML data\n",
    "cs.execute(\"PUT file://CaseData/SupplierTransactionsXML.xml @project_stage\")"
   ]
  },
  {
   "cell_type": "code",
   "execution_count": 35,
   "metadata": {},
   "outputs": [
    {
     "data": {
      "text/plain": [
       "<snowflake.connector.cursor.SnowflakeCursor at 0x7f3afedbfa10>"
      ]
     },
     "execution_count": 35,
     "metadata": {},
     "output_type": "execute_result"
    }
   ],
   "source": [
    "# create supplier table for XML data\n",
    "cs.execute(\"\"\"CREATE OR REPLACE TABLE supplier_invoice (\n",
    "  scr VARIANT)\n",
    "\"\"\")"
   ]
  },
  {
   "cell_type": "code",
   "execution_count": 36,
   "metadata": {},
   "outputs": [
    {
     "data": {
      "text/plain": [
       "<snowflake.connector.cursor.SnowflakeCursor at 0x7f3afedbfa10>"
      ]
     },
     "execution_count": 36,
     "metadata": {},
     "output_type": "execute_result"
    }
   ],
   "source": [
    "# copy the XML file into the supplier table\n",
    "cs.execute(\"\"\"COPY INTO PROJECT_DATABASE.PROJECT_SCHEMA.SUPPLIER_INVOICE\n",
    "FROM @PROJECT_DATABASE.PROJECT_SCHEMA.PROJECT_STAGE/SupplierTransactionsXML.xml\n",
    "FILE_FORMAT = (\n",
    "    TYPE='XML')\n",
    "ON_ERROR='CONTINUE'\n",
    "\"\"\")"
   ]
  },
  {
   "cell_type": "code",
   "execution_count": 37,
   "metadata": {},
   "outputs": [
    {
     "data": {
      "text/plain": [
       "<snowflake.connector.cursor.SnowflakeCursor at 0x7f3afedbfa10>"
      ]
     },
     "execution_count": 37,
     "metadata": {},
     "output_type": "execute_result"
    }
   ],
   "source": [
    "# create a temporary table to store the data\n",
    "# there are null values in PurchaseOrderID, SupplierInvoiceNumber, FinalizationDate column, use NULLIF to change the null values to ''\n",
    "cs.execute(\"\"\"\n",
    "CREATE OR REPLACE TABLE \"PROJECT_DATABASE\".\"PROJECT_SCHEMA\".\"FLATTENED_SUPPLIER_INVOICE\" AS\n",
    "SELECT \n",
    "    xmlget(value, 'SupplierTransactionID'):\"$\"::INTEGER AS SupplierTransactionID,\n",
    "    xmlget(value, 'SupplierID'):\"$\"::INTEGER AS SupplierID_INVOICE,\n",
    "    xmlget(value, 'TransactionTypeID'):\"$\"::INTEGER AS TransactionTypeID,\n",
    "    NULLIF(xmlget(value, 'PurchaseOrderID'):\"$\", '')::INTEGER AS PurchaseOrderID_INVOICE,\n",
    "    xmlget(value, 'PaymentMethodID'):\"$\"::INTEGER AS PaymentMethodID,\n",
    "    NULLIF(xmlget(value, 'SupplierInvoiceNumber'):\"$\", '')::INTEGER AS SupplierInvoiceNumber,\n",
    "    xmlget(value, 'TransactionDate'):\"$\"::DATE AS TransactionDate,\n",
    "    xmlget(value, 'AmountExcludingTax'):\"$\"::FLOAT AS AmountExcludingTax,\n",
    "    xmlget(value, 'TaxAmount'):\"$\"::FLOAT AS TaxAmount,\n",
    "    xmlget(value, 'TransactionAmount'):\"$\"::FLOAT AS TransactionAmount,\n",
    "    xmlget(value, 'OutstandingBalance'):\"$\"::FLOAT AS OutstandingBalance,\n",
    "    NULLIF(xmlget(value, 'FinalizationDate'):\"$\", '')::DATE AS FinalizationDate,\n",
    "    xmlget(value, 'IsFinalized'):\"$\"::INT AS IsFinalized,\n",
    "    xmlget(value, 'LastEditedBy'):\"$\"::INT AS LastEditedBy_INVOICE,\n",
    "    xmlget(value, 'LastEditedWhen'):\"$\"::DATETIME AS LastEditedWhen_INVOICE\n",
    "    \n",
    "FROM \"PROJECT_DATABASE\".\"PROJECT_SCHEMA\".\"SUPPLIER_INVOICE\",\n",
    "LATERAL FLATTEN(input => scr:\"$\") AS LIST\n",
    "\"\"\")\n"
   ]
  },
  {
   "cell_type": "code",
   "execution_count": 78,
   "metadata": {},
   "outputs": [
    {
     "data": {
      "text/plain": [
       "<snowflake.connector.cursor.SnowflakeCursor at 0x7f3af21d4210>"
      ]
     },
     "execution_count": 78,
     "metadata": {},
     "output_type": "execute_result"
    }
   ],
   "source": [
    "# Step 4 \n",
    "#use LEFT JOIN to join purchase and supplier_invoice table, and use anti-join to  only include matching rows\n",
    "cs.execute(\"\"\"CREATE OR REPLACE TABLE \"PROJECT_DATABASE\".\"PROJECT_SCHEMA\".\"Filtered_Supplier_Data\" AS\n",
    "           SELECT *\n",
    "           FROM purchase A\n",
    "           LEFT JOIN FLATTENED_SUPPLIER_INVOICE B\n",
    "           ON A.PURCHASEORDERID = B.PurchaseOrderID_INVOICE\n",
    "           WHERE B.PurchaseOrderID_INVOICE IS NOT NULL\"\"\")"
   ]
  },
  {
   "cell_type": "code",
   "execution_count": 84,
   "metadata": {},
   "outputs": [
    {
     "data": {
      "text/plain": [
       "<snowflake.connector.cursor.SnowflakeCursor at 0x7f3af21d4210>"
      ]
     },
     "execution_count": 84,
     "metadata": {},
     "output_type": "execute_result"
    }
   ],
   "source": [
    "# Step 5\n",
    "# Create Materialized View (Not supported with my Snowflake so I created a table)\n",
    "cs.execute(\"\"\"\n",
    "        CREATE or REPLACE TABLE purchase_orders_and_invoices AS\n",
    "        SELECT (a.AmountExcludingTax - a.POAmount) AS invoiced_vs_quoted, b.*\n",
    "        FROM \"PROJECT_DATABASE\".\"PROJECT_SCHEMA\".\"Filtered_Supplier_Data\" as a\n",
    "        JOIN \"PROJECT_DATABASE\".\"PROJECT_SCHEMA\".\"Filtered_Supplier_Data\" as b\n",
    "        ON a.purchaseorderid = b.purchaseorderid\n",
    "           \"\"\")"
   ]
  },
  {
   "cell_type": "code",
   "execution_count": 44,
   "metadata": {},
   "outputs": [],
   "source": [
    "#Step 6\n",
    "#Extracting Supplier_Case from postgres and converting it into a csv file\n",
    "import psycopg2\n",
    "\n",
    "connection = psycopg2.connect(\n",
    "        host=\"127.0.0.1\",\n",
    "        database=\"rsm-docker\",\n",
    "        user=\"jovyan\",\n",
    "        password=\"postgres\",\n",
    "        port = \"8765\"\n",
    "    )\n",
    "\n",
    "cs = connection.cursor()\n",
    "query = \"COPY supplier_case TO STDOUT WITH CSV HEADER\"\n",
    "\n",
    "with open(\"CaseData/supplier_case.csv\", \"w\") as f:\n",
    "        cs.copy_expert(query, f)\n"
   ]
  },
  {
   "cell_type": "code",
   "execution_count": 51,
   "metadata": {},
   "outputs": [
    {
     "data": {
      "text/plain": [
       "<snowflake.connector.cursor.SnowflakeCursor at 0x7f3af21d4210>"
      ]
     },
     "execution_count": 51,
     "metadata": {},
     "output_type": "execute_result"
    }
   ],
   "source": [
    "#Upload the csv file to Snowflake stage\n",
    "cs.execute(\"PUT file://CaseData/supplier_case.csv @project_stage\")"
   ]
  },
  {
   "cell_type": "code",
   "execution_count": 51,
   "metadata": {},
   "outputs": [
    {
     "data": {
      "text/plain": [
       "<snowflake.connector.cursor.SnowflakeCursor at 0x7fcf0f157090>"
      ]
     },
     "execution_count": 51,
     "metadata": {},
     "output_type": "execute_result"
    }
   ],
   "source": [
    "#Test Table to see if my python code generates the same table and column names \n",
    "\n",
    "cs.execute(\"\"\"\n",
    "CREATE OR REPLACE TABLE Supplier_Case_Test (\n",
    "    SupplierID               INTEGER,\n",
    "    SupplierName             VARCHAR,\n",
    "    SupplierCategoryID       INTEGER,\n",
    "    PrimaryContactPersonID   INTEGER,\n",
    "    AlternateContactPersonID INTEGER,\n",
    "    DeliveryMethodID         INTEGER,\n",
    "    PostalCityID             VARCHAR,\n",
    "    SupplierReference        VARCHAR,\n",
    "    BankAccountName          VARCHAR,\n",
    "    BankAccountBranch        VARCHAR,\n",
    "    BankAccountCode          VARCHAR,\n",
    "    BankAccountNumber        VARCHAR,\n",
    "    BankInternationalCode    VARCHAR,\n",
    "    PaymentDays              INTEGER,\n",
    "    InternalComments         VARCHAR,\n",
    "    PhoneNumber              VARCHAR,\n",
    "    FaxNumber                VARCHAR,\n",
    "    WebsiteURL               VARCHAR,\n",
    "    DeliveryAddressLine1     VARCHAR,\n",
    "    DeliveryAddressLine2     VARCHAR,\n",
    "    DeliveryPostalCode       VARCHAR,\n",
    "    DeliveryLocation         VARCHAR,\n",
    "    PostalAddressLine1       VARCHAR,\n",
    "    PostalAddressLine2       VARCHAR,\n",
    "    PostalPostalCode         VARCHAR,\n",
    "    LastEditedBy             INTEGER,\n",
    "    ValidFrom                VARCHAR,\n",
    "    ValidTo                  VARCHAR\n",
    ");\n",
    "\"\"\")"
   ]
  },
  {
   "cell_type": "code",
   "execution_count": 9,
   "metadata": {},
   "outputs": [
    {
     "data": {
      "text/plain": [
       "<snowflake.connector.cursor.SnowflakeCursor at 0x7f3afedbfa10>"
      ]
     },
     "execution_count": 9,
     "metadata": {},
     "output_type": "execute_result"
    }
   ],
   "source": [
    "#Generate a Python code that reads the csv file path and generates a table based on the header and data types.\n",
    "#ChatGPT was used to help generate and debug this code.\n",
    "\n",
    "import csv\n",
    "import pandas as pd\n",
    "\n",
    "def generate_sql_field_definitions(csv_path):\n",
    "    df = pd.read_csv(csv_path)\n",
    "\n",
    "    field_definitions = []\n",
    "\n",
    "    # Loop through each column to determine its name and data type\n",
    "    for column in df.columns:\n",
    "        dtype = str(df[column].dtype)\n",
    "        if dtype == \"int64\":\n",
    "            sql_dtype = \"INT\"\n",
    "        elif dtype == \"float64\":\n",
    "            sql_dtype = \"FLOAT\"\n",
    "        elif dtype == \"bool\":\n",
    "            sql_dtype = \"BOOLEAN\"\n",
    "        elif dtype == \"object\":  \n",
    "            sql_dtype = \"TEXT\"\n",
    "        else:\n",
    "            sql_dtype = \"TEXT\"\n",
    "\n",
    "        field_definitions.append(f\"{column} {sql_dtype}\")\n",
    "\n",
    "    # Join all field definitions into a single string\n",
    "    field_definitions_str = \", \".join(field_definitions)\n",
    "\n",
    "    return field_definitions_str\n",
    "\n",
    "#Specify your file path and run in the function created above\n",
    "csv_path = \"CaseData/supplier_case.csv\" \n",
    "field_definitions_str = generate_sql_field_definitions(csv_path)\n",
    "create_table_statement = f\"CREATE or REPLACE TABLE supplier_case ({field_definitions_str});\"\n",
    "\n",
    "cs.execute(create_table_statement)\n"
   ]
  },
  {
   "cell_type": "code",
   "execution_count": 52,
   "metadata": {},
   "outputs": [
    {
     "data": {
      "text/plain": [
       "<snowflake.connector.cursor.SnowflakeCursor at 0x7f3af21d4210>"
      ]
     },
     "execution_count": 52,
     "metadata": {},
     "output_type": "execute_result"
    }
   ],
   "source": [
    "#Upload data from stage into Supplier Case Table\n",
    "cs.execute(\"\"\"\n",
    "COPY INTO supplier_case\n",
    "FROM @project_stage/supplier_case.csv.gz\n",
    "FILE_FORMAT = (TYPE = 'CSV' skip_header = 1 NULL_IF=('NULL', '\\\\N'))\n",
    "ON_ERROR = 'CONTINUE'\n",
    "\"\"\")"
   ]
  },
  {
   "cell_type": "code",
   "execution_count": 20,
   "metadata": {},
   "outputs": [
    {
     "data": {
      "text/plain": [
       "<snowflake.connector.cursor.SnowflakeCursor at 0x7f3afedbfa10>"
      ]
     },
     "execution_count": 20,
     "metadata": {},
     "output_type": "execute_result"
    }
   ],
   "source": [
    "#Step 7\n",
    "#Extract and Pivot the Data Set we need from Knoema Environment Data Atlas. \n",
    "#We only need the US data to match with US zip codes. We also need the pivot the Indicator Name into seperate columns for each measurement.\n",
    "#Used a same approach as the towardsdatascienc.com link.\n",
    "\n",
    "cs.execute(\"\"\"\n",
    "create or replace table weather_data\n",
    "cluster by (station_id, date)\n",
    "as (\n",
    "    select *\n",
    "    from (\n",
    "        select \"Stations\", \"Stations Longitude\", \"Stations Latitude\", \"Date\", \"Stations Name\", \"Country\", \"Indicator Name\", \"Value\"\n",
    "        from ENVIRONMENT_DATA_ATLAS.ENVIRONMENT.NOAACD2019R\n",
    "        where \"Country\"='US'\n",
    "    )\n",
    "    pivot(max(\"Value\") for \"Indicator Name\" in ('Mean visibility (miles)','Maximum temperature (Fahrenheit)','Mean dew point (Fahrenheit)','Maximum wind gust (Number)','Minimum temperature (Fahrenheit)','Maximum sustained wind speed (knots)','Mean wind speed (knots)','Mean station pressure (millibars)','Precipitation amount (inches)','Mean temperature (Fahrenheit)','Mean sea level pressure (millibars)','Snow depth (inches)'))\n",
    "    as p(station_id, lng, lat, date, name, country, visibility, max, dew, wind_max, min, wind_sustained_max, wind_mean, pressure, rain, temp, pressure_sea, snow_depth));\n",
    "\"\"\")\n",
    "          "
   ]
  },
  {
   "cell_type": "code",
   "execution_count": 7,
   "metadata": {},
   "outputs": [
    {
     "data": {
      "text/plain": [
       "<snowflake.connector.cursor.SnowflakeCursor at 0x7f3afedbfa10>"
      ]
     },
     "execution_count": 7,
     "metadata": {},
     "output_type": "execute_result"
    }
   ],
   "source": [
    "#Upload a data set that has US zip codes\n",
    "cs.execute(\"PUT file://CaseData/uszips.csv @project_stage\")"
   ]
  },
  {
   "cell_type": "code",
   "execution_count": 10,
   "metadata": {},
   "outputs": [
    {
     "data": {
      "text/plain": [
       "<snowflake.connector.cursor.SnowflakeCursor at 0x7f3afedbfa10>"
      ]
     },
     "execution_count": 10,
     "metadata": {},
     "output_type": "execute_result"
    }
   ],
   "source": [
    "#Create a table for the zip code data\n",
    "csv_path2 = \"CaseData/uszips.csv\" \n",
    "field_definitions_str2 = generate_sql_field_definitions(csv_path2)\n",
    "create_table_statement2 = f\"CREATE or REPLACE TABLE Zip_Codes ({field_definitions_str2});\"\n",
    "\n",
    "cs.execute(create_table_statement2)"
   ]
  },
  {
   "cell_type": "code",
   "execution_count": 11,
   "metadata": {},
   "outputs": [
    {
     "data": {
      "text/plain": [
       "<snowflake.connector.cursor.SnowflakeCursor at 0x7f3afedbfa10>"
      ]
     },
     "execution_count": 11,
     "metadata": {},
     "output_type": "execute_result"
    }
   ],
   "source": [
    "#Copy stage data into the zip_codes table we created\n",
    "cs.execute(\"\"\"\n",
    "COPY INTO Zip_Codes\n",
    "FROM @project_stage/uszips.csv.gz\n",
    "FILE_FORMAT = (TYPE = 'CSV' skip_header = 1 NULL_IF=('NULL', '\\\\N', ' '))\n",
    "ON_ERROR = 'CONTINUE'\n",
    "\"\"\")"
   ]
  },
  {
   "cell_type": "code",
   "execution_count": 25,
   "metadata": {},
   "outputs": [
    {
     "data": {
      "text/plain": [
       "<snowflake.connector.cursor.SnowflakeCursor at 0x7f3afedbfa10>"
      ]
     },
     "execution_count": 25,
     "metadata": {},
     "output_type": "execute_result"
    }
   ],
   "source": [
    "#a) Find weather stations closest to each zip code. We used a very similar approach from towardsdatascienc.com link.\n",
    "cs.execute(\"\"\"\n",
    "CREATE or REPLACE TABLE stations_zips AS(\n",
    "    SELECT b.zip,\n",
    "    st_distance(st_makepoint(a.lng, a.lat), st_makepoint(b.lng, b.lat)) as distance, \n",
    "    a.country, a.station_id\n",
    "    FROM weather_data AS a\n",
    "    JOIN Zip_Codes AS b\n",
    "    ON a.country=b.country\n",
    "    AND st_distance(st_makepoint(a.lng, a.lat), st_makepoint(b.lng, b.lat)) < 50000\n",
    "    qualify row_number() over(partition by a.station_id order by distance) = 1\n",
    "    ORDER BY b.zip\n",
    ");\n",
    "\"\"\")"
   ]
  },
  {
   "cell_type": "code",
   "execution_count": null,
   "metadata": {},
   "outputs": [],
   "source": [
    "#Add zip codes from stations_zips to weather data table\n",
    "cs.execute(\"\"\"\n",
    "ALTER TABLE weather_data ADD ZipCode INT;\n",
    "\"\"\")"
   ]
  },
  {
   "cell_type": "code",
   "execution_count": 59,
   "metadata": {},
   "outputs": [
    {
     "data": {
      "text/plain": [
       "<snowflake.connector.cursor.SnowflakeCursor at 0x7f3af21d4210>"
      ]
     },
     "execution_count": 59,
     "metadata": {},
     "output_type": "execute_result"
    }
   ],
   "source": [
    "cs.execute(\"\"\"\n",
    "UPDATE weather_data\n",
    "SET ZipCode = stations_Zips.zip\n",
    "FROM Stations_Zips\n",
    "WHERE Stations_Zips.Station_ID = weather_data.Station_ID;\n",
    "\"\"\")"
   ]
  },
  {
   "cell_type": "code",
   "execution_count": 14,
   "metadata": {},
   "outputs": [
    {
     "data": {
      "text/plain": [
       "<snowflake.connector.cursor.SnowflakeCursor at 0x7f263f9a6150>"
      ]
     },
     "execution_count": 14,
     "metadata": {},
     "output_type": "execute_result"
    }
   ],
   "source": [
    "#b) Create a view with three columns zip code, date, and high temperature. One row per day and unique supplier zip code\n",
    "cs.execute(\"\"\"CREATE OR REPLACE VIEW supplier_zip_code_weather AS (\n",
    "    SELECT \n",
    "        sc.Zip AS PostalPostalCode,\n",
    "        w.\"Date\",\n",
    "        MAX(w.\"Value\") AS \"Daily High Temperature\"\n",
    "    FROM stations_zips sc\n",
    "    JOIN ENVIRONMENT_DATA_ATLAS.ENVIRONMENT.NOAACD2019R w\n",
    "    ON sc.\"STATION_ID\" = w.\"Stations\"\n",
    "    WHERE sc.Zip IN (SELECT DISTINCT PostalPostalCode FROM supplier_case) AND w.\"Units\" = 'Fahrenheit'\n",
    "    GROUP BY sc.Zip, w.\"Date\"\n",
    "    ORDER BY w.\"Date\"\n",
    ");\n",
    " \"\"\")"
   ]
  },
  {
   "cell_type": "code",
   "execution_count": 38,
   "metadata": {},
   "outputs": [
    {
     "data": {
      "text/plain": [
       "<snowflake.connector.cursor.SnowflakeCursor at 0x7f263f9a6150>"
      ]
     },
     "execution_count": 38,
     "metadata": {},
     "output_type": "execute_result"
    }
   ],
   "source": [
    "#Step 8 \n",
    "#Join tables based on zip codes and the transaction date. Only include transactions that have matching temperature readings.\n",
    "cs.execute(\"\"\"\n",
    "CREATE OR REPLACE TABLE Joined AS\n",
    "SELECT a.*,c.*, b.suppliername\n",
    "FROM purchase_orders_and_invoices AS a\n",
    "JOIN supplier_case AS b\n",
    "ON a.supplierid = b.supplierid\n",
    "JOIN supplier_zip_code_weather AS c \n",
    "ON b.PostalPostalCode = c.PostalPostalCode\n",
    "WHERE dateadd(year, +5, a.transactiondate) = c.\"Date\"\n",
    "ORDER BY c.\"Date\";\n",
    "\"\"\")"
   ]
  }
 ],
 "metadata": {
  "kernelspec": {
   "display_name": "base",
   "language": "python",
   "name": "python3"
  },
  "language_info": {
   "codemirror_mode": {
    "name": "ipython",
    "version": 3
   },
   "file_extension": ".py",
   "mimetype": "text/x-python",
   "name": "python",
   "nbconvert_exporter": "python",
   "pygments_lexer": "ipython3",
   "version": "3.11.4"
  },
  "orig_nbformat": 4
 },
 "nbformat": 4,
 "nbformat_minor": 2
}
